{
 "cells": [
  {
   "cell_type": "markdown",
   "id": "22dc3502-5dc4-463c-bd5c-e2dfdda9130d",
   "metadata": {},
   "source": [
    "Key components to be fulfilled :"
   ]
  },
  {
   "cell_type": "markdown",
   "id": "83e2ea39-ae19-4f8f-959f-5bbf4ef814b8",
   "metadata": {},
   "source": [
    "# 1. Loading and Preprocessing \n",
    "Load the Iris dataset from sklearn.\n",
    "Drop the species column since this is a clustering problem."
   ]
  },
  {
   "cell_type": "code",
   "execution_count": 475,
   "id": "53e3c5a3-ee50-4965-9ede-510f09a56751",
   "metadata": {},
   "outputs": [],
   "source": [
    "import warnings\n",
    "import sys\n",
    "if not sys.warnoptions:\n",
    "    warnings.simplefilter(\"ignore\")"
   ]
  },
  {
   "cell_type": "code",
   "execution_count": 476,
   "id": "224d5ad7-1656-4606-8a6c-1966ee902143",
   "metadata": {},
   "outputs": [],
   "source": [
    "from sklearn import datasets\n",
    "import pandas as pd\n",
    "import seaborn as sns \n",
    "from sklearn.preprocessing import StandardScaler\n",
    "from sklearn.cluster import KMeans\n",
    "from sklearn.metrics import silhouette_score, davies_bouldin_score,calinski_harabasz_score\n",
    "import scipy.cluster.hierarchy as shc\n",
    "from sklearn.cluster import AgglomerativeClustering"
   ]
  },
  {
   "cell_type": "code",
   "execution_count": 477,
   "id": "63a64dbf-798d-42ca-9ec1-b3bb2b843d5d",
   "metadata": {},
   "outputs": [
    {
     "data": {
      "text/html": [
       "<div>\n",
       "<style scoped>\n",
       "    .dataframe tbody tr th:only-of-type {\n",
       "        vertical-align: middle;\n",
       "    }\n",
       "\n",
       "    .dataframe tbody tr th {\n",
       "        vertical-align: top;\n",
       "    }\n",
       "\n",
       "    .dataframe thead th {\n",
       "        text-align: right;\n",
       "    }\n",
       "</style>\n",
       "<table border=\"1\" class=\"dataframe\">\n",
       "  <thead>\n",
       "    <tr style=\"text-align: right;\">\n",
       "      <th></th>\n",
       "      <th>sepal length (cm)</th>\n",
       "      <th>sepal width (cm)</th>\n",
       "      <th>petal length (cm)</th>\n",
       "      <th>petal width (cm)</th>\n",
       "    </tr>\n",
       "  </thead>\n",
       "  <tbody>\n",
       "    <tr>\n",
       "      <th>0</th>\n",
       "      <td>5.1</td>\n",
       "      <td>3.5</td>\n",
       "      <td>1.4</td>\n",
       "      <td>0.2</td>\n",
       "    </tr>\n",
       "    <tr>\n",
       "      <th>1</th>\n",
       "      <td>4.9</td>\n",
       "      <td>3.0</td>\n",
       "      <td>1.4</td>\n",
       "      <td>0.2</td>\n",
       "    </tr>\n",
       "    <tr>\n",
       "      <th>2</th>\n",
       "      <td>4.7</td>\n",
       "      <td>3.2</td>\n",
       "      <td>1.3</td>\n",
       "      <td>0.2</td>\n",
       "    </tr>\n",
       "    <tr>\n",
       "      <th>3</th>\n",
       "      <td>4.6</td>\n",
       "      <td>3.1</td>\n",
       "      <td>1.5</td>\n",
       "      <td>0.2</td>\n",
       "    </tr>\n",
       "    <tr>\n",
       "      <th>4</th>\n",
       "      <td>5.0</td>\n",
       "      <td>3.6</td>\n",
       "      <td>1.4</td>\n",
       "      <td>0.2</td>\n",
       "    </tr>\n",
       "  </tbody>\n",
       "</table>\n",
       "</div>"
      ],
      "text/plain": [
       "   sepal length (cm)  sepal width (cm)  petal length (cm)  petal width (cm)\n",
       "0                5.1               3.5                1.4               0.2\n",
       "1                4.9               3.0                1.4               0.2\n",
       "2                4.7               3.2                1.3               0.2\n",
       "3                4.6               3.1                1.5               0.2\n",
       "4                5.0               3.6                1.4               0.2"
      ]
     },
     "execution_count": 477,
     "metadata": {},
     "output_type": "execute_result"
    }
   ],
   "source": [
    "# Load the Iris dataset\n",
    "iris = datasets.load_iris()\n",
    "data = pd.DataFrame(iris.data, columns=iris.feature_names)\n",
    "\n",
    "# Display the first few rows\n",
    "data.head()"
   ]
  },
  {
   "cell_type": "code",
   "execution_count": 478,
   "id": "b115d29c-027e-4f15-be66-8bfa030e5cc0",
   "metadata": {},
   "outputs": [
    {
     "data": {
      "text/plain": [
       "(150, 4)"
      ]
     },
     "execution_count": 478,
     "metadata": {},
     "output_type": "execute_result"
    }
   ],
   "source": [
    "data.shape"
   ]
  },
  {
   "cell_type": "code",
   "execution_count": 479,
   "id": "b8062379-8357-4a1e-959b-7eec84b9188a",
   "metadata": {},
   "outputs": [
    {
     "name": "stdout",
     "output_type": "stream",
     "text": [
      "<class 'pandas.core.frame.DataFrame'>\n",
      "RangeIndex: 150 entries, 0 to 149\n",
      "Data columns (total 4 columns):\n",
      " #   Column             Non-Null Count  Dtype  \n",
      "---  ------             --------------  -----  \n",
      " 0   sepal length (cm)  150 non-null    float64\n",
      " 1   sepal width (cm)   150 non-null    float64\n",
      " 2   petal length (cm)  150 non-null    float64\n",
      " 3   petal width (cm)   150 non-null    float64\n",
      "dtypes: float64(4)\n",
      "memory usage: 4.8 KB\n"
     ]
    }
   ],
   "source": [
    "data.info()"
   ]
  },
  {
   "cell_type": "code",
   "execution_count": 480,
   "id": "b399fb7f-330d-4c58-8aa8-932de712671d",
   "metadata": {},
   "outputs": [
    {
     "name": "stdout",
     "output_type": "stream",
     "text": [
      "The null values in each column:\n",
      " sepal length (cm)    0\n",
      "sepal width (cm)     0\n",
      "petal length (cm)    0\n",
      "petal width (cm)     0\n",
      "dtype: int64\n"
     ]
    }
   ],
   "source": [
    "null_values=data.isnull().sum()\n",
    "print(\"The null values in each column:\\n\",null_values)"
   ]
  },
  {
   "cell_type": "code",
   "execution_count": 481,
   "id": "f308dbb1-42f5-448b-84d3-43954573a77a",
   "metadata": {},
   "outputs": [
    {
     "data": {
      "text/plain": [
       "1"
      ]
     },
     "execution_count": 481,
     "metadata": {},
     "output_type": "execute_result"
    }
   ],
   "source": [
    "data.duplicated().sum()"
   ]
  },
  {
   "cell_type": "code",
   "execution_count": 482,
   "id": "dae21abe-ee7d-4e84-a45c-450d7e84922e",
   "metadata": {},
   "outputs": [],
   "source": [
    "data=data.drop_duplicates()"
   ]
  },
  {
   "cell_type": "code",
   "execution_count": 483,
   "id": "0eeec10f-5804-4169-9ce8-7b7774d667f3",
   "metadata": {},
   "outputs": [
    {
     "data": {
      "text/plain": [
       "0"
      ]
     },
     "execution_count": 483,
     "metadata": {},
     "output_type": "execute_result"
    }
   ],
   "source": [
    "data.duplicated().sum()"
   ]
  },
  {
   "cell_type": "markdown",
   "id": "f4734182-2c15-4a6d-84e6-d3fa35d48f9d",
   "metadata": {},
   "source": [
    "There is only one duplicate value, removed using drop function."
   ]
  },
  {
   "cell_type": "markdown",
   "id": "8e5a35fc-8e46-4c74-9231-52e153a8a6eb",
   "metadata": {},
   "source": [
    "# 2.Clustering Algorithm Implementation \n",
    "Implement the following two clustering algorithms:"
   ]
  },
  {
   "cell_type": "markdown",
   "id": "35f7f698-95c6-4522-9ec6-43a13f09ad48",
   "metadata": {},
   "source": [
    "# A) KMeans Clustering \n",
    "-- Provide a brief description of how KMeans clustering works.\n",
    "-- Explain why KMeans clustering might be suitable for the Iris dataset.\n",
    "-- Apply KMeans clustering to the preprocessed Iris dataset and visualize the clusters."
   ]
  },
  {
   "cell_type": "markdown",
   "id": "df3c8092-60cb-4e73-99b0-a27a99740e8a",
   "metadata": {},
   "source": [
    "#KMeans Clustering \n",
    "KMeans is an unsupervised machine learning algorithm designed for clustering, which involves partitioning data into distinct groups. \n",
    "The process begins with the random initialization of k centroids. Each data point is then assigned to the nearest centroid based on Euclidean distance. \n",
    "The centroids are subsequently updated by calculating the mean position of all points within each cluster. \n",
    "This iterative process continues until the centroids stabilize, meaning they no longer change significantly, or a predefined stopping condition is met."
   ]
  },
  {
   "cell_type": "markdown",
   "id": "0f88b3a1-9d46-4c78-9c47-d87e7f0bba0e",
   "metadata": {},
   "source": [
    "The Iris dataset naturally forms three distinct clusters that correspond to the three species: Setosa, Versicolor, and Virginica. \n",
    "KMeans clustering is particularly effective for this dataset because it performs well when clusters are well-separated in the feature space. \n",
    "With only four numerical features, the dataset provides a suitable structure for KMeans to efficiently identify patterns and group similar data points into meaningful clusters.\n"
   ]
  },
  {
   "cell_type": "code",
   "execution_count": 488,
   "id": "cd2a5b95-41f0-4699-aed9-6d058e3720f0",
   "metadata": {},
   "outputs": [],
   "source": [
    "scaler=StandardScaler()\n",
    "scaled_features=scaler.fit_transform(data)"
   ]
  },
  {
   "cell_type": "code",
   "execution_count": 489,
   "id": "072e5fd8-8790-49ec-b6e6-23d297dca848",
   "metadata": {},
   "outputs": [],
   "source": [
    "# Elbow Method to Determine Optimal Number of Clusters\n",
    "inertia = []\n",
    "k_range = range(1, 11)\n",
    "for k in k_range:\n",
    "    kmeans = KMeans(n_clusters=k, random_state=42, n_init=10)\n",
    "    kmeans.fit(scaled_features)\n",
    "    inertia.append(kmeans.inertia_)"
   ]
  },
  {
   "cell_type": "code",
   "execution_count": 490,
   "id": "45335d11-b89e-4691-8721-6f06226f37e9",
   "metadata": {},
   "outputs": [
    {
     "data": {
      "image/png": "[encoded data removed]",
      "text/plain": [
       "<Figure size 800x500 with 1 Axes>"
      ]
     },
     "metadata": {},
     "output_type": "display_data"
    }
   ],
   "source": [
    "# Plotting the Elbow Curve\n",
    "plt.figure(figsize=(8, 5))\n",
    "plt.plot(k_range, inertia, marker='o', linestyle='--')\n",
    "plt.title(\"Elbow Method for Optimal k\")\n",
    "plt.xlabel(\"Number of Clusters (k)\")\n",
    "plt.ylabel(\"Inertia\")\n",
    "plt.show()"
   ]
  },
  {
   "cell_type": "code",
   "execution_count": 491,
   "id": "fbf5f1c6-7b69-4d81-9af4-094c0426e14d",
   "metadata": {},
   "outputs": [],
   "source": [
    "# Choose Optimal Number of Clusters \n",
    "optimal_k = 3\n",
    "kmeans = KMeans(n_clusters=optimal_k, random_state=42, n_init=10)"
   ]
  },
  {
   "cell_type": "code",
   "execution_count": 492,
   "id": "a8b91602-8f19-4bc5-adef-94bad1848f0d",
   "metadata": {},
   "outputs": [],
   "source": [
    "cluster_labels=kmeans.fit_predict(scaled_features)"
   ]
  },
  {
   "cell_type": "code",
   "execution_count": 493,
   "id": "b9fe7993-7829-4e86-aaad-33a8e8c044c8",
   "metadata": {},
   "outputs": [
    {
     "data": {
      "text/html": [
       "<div>\n",
       "<style scoped>\n",
       "    .dataframe tbody tr th:only-of-type {\n",
       "        vertical-align: middle;\n",
       "    }\n",
       "\n",
       "    .dataframe tbody tr th {\n",
       "        vertical-align: top;\n",
       "    }\n",
       "\n",
       "    .dataframe thead th {\n",
       "        text-align: right;\n",
       "    }\n",
       "</style>\n",
       "<table border=\"1\" class=\"dataframe\">\n",
       "  <thead>\n",
       "    <tr style=\"text-align: right;\">\n",
       "      <th></th>\n",
       "      <th>sepal length (cm)</th>\n",
       "      <th>sepal width (cm)</th>\n",
       "      <th>petal length (cm)</th>\n",
       "      <th>petal width (cm)</th>\n",
       "      <th>Cluster</th>\n",
       "    </tr>\n",
       "  </thead>\n",
       "  <tbody>\n",
       "    <tr>\n",
       "      <th>0</th>\n",
       "      <td>5.1</td>\n",
       "      <td>3.5</td>\n",
       "      <td>1.4</td>\n",
       "      <td>0.2</td>\n",
       "      <td>1</td>\n",
       "    </tr>\n",
       "    <tr>\n",
       "      <th>1</th>\n",
       "      <td>4.9</td>\n",
       "      <td>3.0</td>\n",
       "      <td>1.4</td>\n",
       "      <td>0.2</td>\n",
       "      <td>1</td>\n",
       "    </tr>\n",
       "    <tr>\n",
       "      <th>2</th>\n",
       "      <td>4.7</td>\n",
       "      <td>3.2</td>\n",
       "      <td>1.3</td>\n",
       "      <td>0.2</td>\n",
       "      <td>1</td>\n",
       "    </tr>\n",
       "    <tr>\n",
       "      <th>3</th>\n",
       "      <td>4.6</td>\n",
       "      <td>3.1</td>\n",
       "      <td>1.5</td>\n",
       "      <td>0.2</td>\n",
       "      <td>1</td>\n",
       "    </tr>\n",
       "    <tr>\n",
       "      <th>4</th>\n",
       "      <td>5.0</td>\n",
       "      <td>3.6</td>\n",
       "      <td>1.4</td>\n",
       "      <td>0.2</td>\n",
       "      <td>1</td>\n",
       "    </tr>\n",
       "    <tr>\n",
       "      <th>...</th>\n",
       "      <td>...</td>\n",
       "      <td>...</td>\n",
       "      <td>...</td>\n",
       "      <td>...</td>\n",
       "      <td>...</td>\n",
       "    </tr>\n",
       "    <tr>\n",
       "      <th>145</th>\n",
       "      <td>6.7</td>\n",
       "      <td>3.0</td>\n",
       "      <td>5.2</td>\n",
       "      <td>2.3</td>\n",
       "      <td>2</td>\n",
       "    </tr>\n",
       "    <tr>\n",
       "      <th>146</th>\n",
       "      <td>6.3</td>\n",
       "      <td>2.5</td>\n",
       "      <td>5.0</td>\n",
       "      <td>1.9</td>\n",
       "      <td>0</td>\n",
       "    </tr>\n",
       "    <tr>\n",
       "      <th>147</th>\n",
       "      <td>6.5</td>\n",
       "      <td>3.0</td>\n",
       "      <td>5.2</td>\n",
       "      <td>2.0</td>\n",
       "      <td>2</td>\n",
       "    </tr>\n",
       "    <tr>\n",
       "      <th>148</th>\n",
       "      <td>6.2</td>\n",
       "      <td>3.4</td>\n",
       "      <td>5.4</td>\n",
       "      <td>2.3</td>\n",
       "      <td>2</td>\n",
       "    </tr>\n",
       "    <tr>\n",
       "      <th>149</th>\n",
       "      <td>5.9</td>\n",
       "      <td>3.0</td>\n",
       "      <td>5.1</td>\n",
       "      <td>1.8</td>\n",
       "      <td>0</td>\n",
       "    </tr>\n",
       "  </tbody>\n",
       "</table>\n",
       "<p>149 rows × 5 columns</p>\n",
       "</div>"
      ],
      "text/plain": [
       "     sepal length (cm)  sepal width (cm)  petal length (cm)  petal width (cm)  \\\n",
       "0                  5.1               3.5                1.4               0.2   \n",
       "1                  4.9               3.0                1.4               0.2   \n",
       "2                  4.7               3.2                1.3               0.2   \n",
       "3                  4.6               3.1                1.5               0.2   \n",
       "4                  5.0               3.6                1.4               0.2   \n",
       "..                 ...               ...                ...               ...   \n",
       "145                6.7               3.0                5.2               2.3   \n",
       "146                6.3               2.5                5.0               1.9   \n",
       "147                6.5               3.0                5.2               2.0   \n",
       "148                6.2               3.4                5.4               2.3   \n",
       "149                5.9               3.0                5.1               1.8   \n",
       "\n",
       "     Cluster  \n",
       "0          1  \n",
       "1          1  \n",
       "2          1  \n",
       "3          1  \n",
       "4          1  \n",
       "..       ...  \n",
       "145        2  \n",
       "146        0  \n",
       "147        2  \n",
       "148        2  \n",
       "149        0  \n",
       "\n",
       "[149 rows x 5 columns]"
      ]
     },
     "execution_count": 493,
     "metadata": {},
     "output_type": "execute_result"
    }
   ],
   "source": [
    "data[\"Cluster\"]=kmeans.labels_\n",
    "data"
   ]
  },
  {
   "cell_type": "code",
   "execution_count": 494,
   "id": "37b2af1b-b8e4-43fa-9e76-a7a6c89e7a4d",
   "metadata": {},
   "outputs": [
    {
     "data": {
      "text/plain": [
       "<Axes: xlabel='sepal length (cm)', ylabel='petal length (cm)'>"
      ]
     },
     "execution_count": 494,
     "metadata": {},
     "output_type": "execute_result"
    },
    {
     "data": {
      "image/png": "[encoded data removed]",
      "text/plain": [
       "<Figure size 640x480 with 1 Axes>"
      ]
     },
     "metadata": {},
     "output_type": "display_data"
    }
   ],
   "source": [
    "sns.scatterplot(data=data,x=\"sepal length (cm)\",y=\"petal length (cm)\",hue=\"Cluster\")"
   ]
  },
  {
   "cell_type": "code",
   "execution_count": 495,
   "id": "ae21400c-46a5-4659-a0b6-b172b9fa3081",
   "metadata": {},
   "outputs": [
    {
     "data": {
      "text/plain": [
       "array([1, 2, 0])"
      ]
     },
     "execution_count": 495,
     "metadata": {},
     "output_type": "execute_result"
    }
   ],
   "source": [
    "data[\"Cluster\"].unique()"
   ]
  },
  {
   "cell_type": "code",
   "execution_count": 496,
   "id": "375a02e6-e220-465d-a51f-7273053149f5",
   "metadata": {},
   "outputs": [
    {
     "name": "stdout",
     "output_type": "stream",
     "text": [
      "Silhouette Score: 0.46\n",
      "Davies-Bouldin Index: 0.83\n",
      "Calinski-Harabasz Index: 240.53\n"
     ]
    }
   ],
   "source": [
    "# Evaluate Model Performance\n",
    "# 1. Silhouette Score\n",
    "sil_score = silhouette_score(scaled_features, cluster_labels)\n",
    "print(f\"Silhouette Score: {sil_score:.2f}\")\n",
    "\n",
    "# 2. Davies-Bouldin Index\n",
    "db_score = davies_bouldin_score(scaled_features, cluster_labels)\n",
    "print(f\"Davies-Bouldin Index: {db_score:.2f}\")\n",
    "\n",
    "from sklearn.metrics import calinski_harabasz_score\n",
    "\n",
    "# Calculate Calinski-Harabasz Index\n",
    "ch_score = calinski_harabasz_score(scaled_features, cluster_labels)\n",
    "print(f\"Calinski-Harabasz Index: {ch_score:.2f}\")"
   ]
  },
  {
   "cell_type": "markdown",
   "id": "f221512b-954f-48ec-b1f3-619eafbd2281",
   "metadata": {},
   "source": [
    "# B) Hierarchical Clustering \n",
    "-- Provide a brief description of how Hierarchical clustering works.\n",
    "-- Explain why Hierarchical clustering might be suitable for the Iris dataset.\n",
    "-- Apply Hierarchical clustering to the preprocessed Iris dataset and visualize the clusters."
   ]
  },
  {
   "cell_type": "markdown",
   "id": "bfb38e41-98f4-4d88-9a46-7ad21427cd33",
   "metadata": {},
   "source": [
    "#Hierarchical clustering\n",
    "Hierarchical clustering is an unsupervised machine learning technique that groups data points into a hierarchy of clusters. \n",
    "It operates in two ways: agglomerative (bottom-up) and divisive (top-down). \n",
    "The agglomerative approach, which is more commonly used, begins by treating each data point as its own cluster and then progressively merging the closest clusters based on a similarity measure, such as Euclidean distance. \n",
    "This process continues until all points are merged into a single cluster or a stopping criterion is met. \n",
    "In contrast, the divisive approach starts with all data points in a single cluster and recursively splits them into smaller groups. \n",
    "The results of hierarchical clustering are typically represented using a dendrogram, a tree-like diagram that visually illustrates how clusters are formed and their relationships.\n"
   ]
  },
  {
   "cell_type": "markdown",
   "id": "d39e92a2-414a-40eb-bd86-bddc1bdff665",
   "metadata": {},
   "source": [
    "Hierarchical clustering is suitable for the Iris dataset as it can reveal natural relationships between its three species based on feature similarities. \n",
    "Unlike K-Means, it does not require a predefined number of clusters and provides an intuitive visualization through a dendrogram. \n",
    "While hierarchical clustering is computationally expensive for large datasets, the small size of the Iris dataset makes it efficient and interpretable, aiding in understanding species groupings.\n",
    " "
   ]
  },
  {
   "cell_type": "code",
   "execution_count": 500,
   "id": "6b518ce4-0d45-4e12-ad0e-951ffd3fd5f4",
   "metadata": {},
   "outputs": [],
   "source": [
    "clusters=AgglomerativeClustering(n_clusters=3)\n",
    "hierarchical_labels=clusters.fit_predict(scaled_features)"
   ]
  },
  {
   "cell_type": "code",
   "execution_count": 501,
   "id": "d0858d29-fddb-4526-8f37-0cb7a604e1ba",
   "metadata": {},
   "outputs": [
    {
     "data": {
      "image/png": "[encoded data removed]",
      "text/plain": [
       "<Figure size 1000x800 with 1 Axes>"
      ]
     },
     "metadata": {},
     "output_type": "display_data"
    }
   ],
   "source": [
    "# Plotting a Dendrogram\n",
    "import matplotlib.pyplot as plt\n",
    "plt.figure(figsize=(10, 8))\n",
    "plt.title(\"Dendrograms\")\n",
    "dend = shc.dendrogram(shc.linkage (scaled_features, method='ward'))"
   ]
  },
  {
   "cell_type": "code",
   "execution_count": 502,
   "id": "91c70c97-0007-40c4-8736-faf068181b65",
   "metadata": {},
   "outputs": [
    {
     "data": {
      "text/plain": [
       "array([1, 1, 1, 1, 1, 1, 1, 1, 1, 1, 1, 1, 1, 1, 1, 1, 1, 1, 1, 1, 1, 1,\n",
       "       1, 1, 1, 1, 1, 1, 1, 1, 1, 1, 1, 1, 1, 1, 1, 1, 1, 1, 1, 1, 1, 1,\n",
       "       1, 1, 1, 1, 1, 1, 0, 0, 0, 0, 0, 0, 0, 0, 0, 0, 0, 0, 0, 0, 0, 0,\n",
       "       0, 0, 0, 0, 0, 0, 0, 0, 0, 0, 0, 0, 0, 0, 0, 0, 0, 0, 0, 0, 0, 0,\n",
       "       0, 0, 0, 0, 0, 0, 0, 0, 0, 0, 0, 0, 0, 0, 0, 0, 0, 0, 0, 0, 0, 0,\n",
       "       0, 0, 0, 0, 0, 0, 0, 0, 0, 0, 0, 0, 0, 0, 0, 0, 0, 0, 0, 0, 0, 0,\n",
       "       0, 0, 0, 0, 0, 0, 0, 0, 0, 0, 0, 0, 0, 0, 0, 0, 0], dtype=int64)"
      ]
     },
     "execution_count": 502,
     "metadata": {},
     "output_type": "execute_result"
    }
   ],
   "source": [
    "clusters=AgglomerativeClustering()\n",
    "clusters.fit_predict(data)"
   ]
  },
  {
   "cell_type": "code",
   "execution_count": 503,
   "id": "4470428b-4610-4655-ba54-c006e01ec580",
   "metadata": {},
   "outputs": [
    {
     "data": {
      "text/html": [
       "<div>\n",
       "<style scoped>\n",
       "    .dataframe tbody tr th:only-of-type {\n",
       "        vertical-align: middle;\n",
       "    }\n",
       "\n",
       "    .dataframe tbody tr th {\n",
       "        vertical-align: top;\n",
       "    }\n",
       "\n",
       "    .dataframe thead th {\n",
       "        text-align: right;\n",
       "    }\n",
       "</style>\n",
       "<table border=\"1\" class=\"dataframe\">\n",
       "  <thead>\n",
       "    <tr style=\"text-align: right;\">\n",
       "      <th></th>\n",
       "      <th>sepal length (cm)</th>\n",
       "      <th>sepal width (cm)</th>\n",
       "      <th>petal length (cm)</th>\n",
       "      <th>petal width (cm)</th>\n",
       "      <th>Cluster</th>\n",
       "      <th>cluster2</th>\n",
       "    </tr>\n",
       "  </thead>\n",
       "  <tbody>\n",
       "    <tr>\n",
       "      <th>0</th>\n",
       "      <td>5.1</td>\n",
       "      <td>3.5</td>\n",
       "      <td>1.4</td>\n",
       "      <td>0.2</td>\n",
       "      <td>1</td>\n",
       "      <td>1</td>\n",
       "    </tr>\n",
       "    <tr>\n",
       "      <th>1</th>\n",
       "      <td>4.9</td>\n",
       "      <td>3.0</td>\n",
       "      <td>1.4</td>\n",
       "      <td>0.2</td>\n",
       "      <td>1</td>\n",
       "      <td>1</td>\n",
       "    </tr>\n",
       "    <tr>\n",
       "      <th>2</th>\n",
       "      <td>4.7</td>\n",
       "      <td>3.2</td>\n",
       "      <td>1.3</td>\n",
       "      <td>0.2</td>\n",
       "      <td>1</td>\n",
       "      <td>1</td>\n",
       "    </tr>\n",
       "    <tr>\n",
       "      <th>3</th>\n",
       "      <td>4.6</td>\n",
       "      <td>3.1</td>\n",
       "      <td>1.5</td>\n",
       "      <td>0.2</td>\n",
       "      <td>1</td>\n",
       "      <td>1</td>\n",
       "    </tr>\n",
       "    <tr>\n",
       "      <th>4</th>\n",
       "      <td>5.0</td>\n",
       "      <td>3.6</td>\n",
       "      <td>1.4</td>\n",
       "      <td>0.2</td>\n",
       "      <td>1</td>\n",
       "      <td>1</td>\n",
       "    </tr>\n",
       "    <tr>\n",
       "      <th>...</th>\n",
       "      <td>...</td>\n",
       "      <td>...</td>\n",
       "      <td>...</td>\n",
       "      <td>...</td>\n",
       "      <td>...</td>\n",
       "      <td>...</td>\n",
       "    </tr>\n",
       "    <tr>\n",
       "      <th>145</th>\n",
       "      <td>6.7</td>\n",
       "      <td>3.0</td>\n",
       "      <td>5.2</td>\n",
       "      <td>2.3</td>\n",
       "      <td>2</td>\n",
       "      <td>0</td>\n",
       "    </tr>\n",
       "    <tr>\n",
       "      <th>146</th>\n",
       "      <td>6.3</td>\n",
       "      <td>2.5</td>\n",
       "      <td>5.0</td>\n",
       "      <td>1.9</td>\n",
       "      <td>0</td>\n",
       "      <td>0</td>\n",
       "    </tr>\n",
       "    <tr>\n",
       "      <th>147</th>\n",
       "      <td>6.5</td>\n",
       "      <td>3.0</td>\n",
       "      <td>5.2</td>\n",
       "      <td>2.0</td>\n",
       "      <td>2</td>\n",
       "      <td>0</td>\n",
       "    </tr>\n",
       "    <tr>\n",
       "      <th>148</th>\n",
       "      <td>6.2</td>\n",
       "      <td>3.4</td>\n",
       "      <td>5.4</td>\n",
       "      <td>2.3</td>\n",
       "      <td>2</td>\n",
       "      <td>0</td>\n",
       "    </tr>\n",
       "    <tr>\n",
       "      <th>149</th>\n",
       "      <td>5.9</td>\n",
       "      <td>3.0</td>\n",
       "      <td>5.1</td>\n",
       "      <td>1.8</td>\n",
       "      <td>0</td>\n",
       "      <td>0</td>\n",
       "    </tr>\n",
       "  </tbody>\n",
       "</table>\n",
       "<p>149 rows × 6 columns</p>\n",
       "</div>"
      ],
      "text/plain": [
       "     sepal length (cm)  sepal width (cm)  petal length (cm)  petal width (cm)  \\\n",
       "0                  5.1               3.5                1.4               0.2   \n",
       "1                  4.9               3.0                1.4               0.2   \n",
       "2                  4.7               3.2                1.3               0.2   \n",
       "3                  4.6               3.1                1.5               0.2   \n",
       "4                  5.0               3.6                1.4               0.2   \n",
       "..                 ...               ...                ...               ...   \n",
       "145                6.7               3.0                5.2               2.3   \n",
       "146                6.3               2.5                5.0               1.9   \n",
       "147                6.5               3.0                5.2               2.0   \n",
       "148                6.2               3.4                5.4               2.3   \n",
       "149                5.9               3.0                5.1               1.8   \n",
       "\n",
       "     Cluster  cluster2  \n",
       "0          1         1  \n",
       "1          1         1  \n",
       "2          1         1  \n",
       "3          1         1  \n",
       "4          1         1  \n",
       "..       ...       ...  \n",
       "145        2         0  \n",
       "146        0         0  \n",
       "147        2         0  \n",
       "148        2         0  \n",
       "149        0         0  \n",
       "\n",
       "[149 rows x 6 columns]"
      ]
     },
     "execution_count": 503,
     "metadata": {},
     "output_type": "execute_result"
    }
   ],
   "source": [
    "data['cluster2']=clusters.fit_predict(data)\n",
    "data"
   ]
  },
  {
   "cell_type": "code",
   "execution_count": 504,
   "id": "cc493ac5-bd22-4d7d-887a-89816077f792",
   "metadata": {},
   "outputs": [
    {
     "data": {
      "text/plain": [
       "array([1, 0], dtype=int64)"
      ]
     },
     "execution_count": 504,
     "metadata": {},
     "output_type": "execute_result"
    }
   ],
   "source": [
    "data[\"cluster2\"].unique()"
   ]
  },
  {
   "cell_type": "code",
   "execution_count": 505,
   "id": "ef54b820-c998-480d-8ea3-f9e6e8cfcb2e",
   "metadata": {},
   "outputs": [
    {
     "data": {
      "text/plain": [
       "{'C0', 'C1', 'C2'}"
      ]
     },
     "execution_count": 505,
     "metadata": {},
     "output_type": "execute_result"
    }
   ],
   "source": [
    "uniquecolor=set(dend['color_list'])\n",
    "uniquecolor"
   ]
  },
  {
   "cell_type": "code",
   "execution_count": 506,
   "id": "11a9be72-07ff-4aac-b3c5-f7e9da262529",
   "metadata": {},
   "outputs": [
    {
     "data": {
      "text/plain": [
       "2"
      ]
     },
     "execution_count": 506,
     "metadata": {},
     "output_type": "execute_result"
    }
   ],
   "source": [
    "optimal_number_of_clusters=len(uniquecolor)-1\n",
    "optimal_number_of_clusters"
   ]
  },
  {
   "cell_type": "code",
   "execution_count": 535,
   "id": "c6cc1f43-99a2-47d1-89f5-606932e06fad",
   "metadata": {},
   "outputs": [
    {
     "name": "stdout",
     "output_type": "stream",
     "text": [
      "silhouette_score:0.45\n",
      "Davies-Bouldin Index:0.80\n",
      "Calinski-Harabasz Index:222.83\n"
     ]
    }
   ],
   "source": [
    "# Evaluate Model Performance\n",
    "#1.silhouette_score\n",
    "sil_score=silhouette_score(scaled_features,hierarchical_labels)\n",
    "print(f\"silhouette_score:{sil_score:.2f}\")\n",
    "\n",
    "#2.Davies-Bouldin Index\n",
    "db_score=davies_bouldin_score(scaled_features,hierarchical_labels)\n",
    "print(f\"Davies-Bouldin Index:{db_score:.2f}\")\n",
    "\n",
    "#3.Calinski-Harabasz Index\n",
    "ch_score=calinski_harabasz_score(scaled_features,hierarchical_labels)\n",
    "print(f\"Calinski-Harabasz Index:{ch_score:.2f}\")"
   ]
  },
  {
   "cell_type": "markdown",
   "id": "1fd83de8-96c3-4f73-8c78-1a9e6eab1490",
   "metadata": {},
   "source": [
    "--The End--"
   ]
  }
 ],
 "metadata": {
  "kernelspec": {
   "display_name": "Python 3 (ipykernel)",
   "language": "python",
   "name": "python3"
  },
  "language_info": {
   "codemirror_mode": {
    "name": "ipython",
    "version": 3
   },
   "file_extension": ".py",
   "mimetype": "text/x-python",
   "name": "python",
   "nbconvert_exporter": "python",
   "pygments_lexer": "ipython3",
   "version": "3.12.7"
  }
 },
 "nbformat": 4,
 "nbformat_minor": 5
}
